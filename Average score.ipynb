{
 "cells": [
  {
   "cell_type": "code",
   "execution_count": 13,
   "id": "56432003",
   "metadata": {},
   "outputs": [],
   "source": [
    "class Student(object):\n",
    "    approval = False\n",
    "    \n",
    "    def __init__(self, name):\n",
    "        self.name = name\n",
    "        \n",
    "    def score(self):\n",
    "        self.n1 = float(input(\"Enter the first score: \"))\n",
    "        self.n2 = float(input(\"Enter the second score: \"))\n",
    "        \n",
    "    def average(self):\n",
    "        try:\n",
    "            self.aver = (self.n1 + self.n2)/2\n",
    "            self.approval = (self.aver >= 7)\n",
    "        except ZeroDivisionError:\n",
    "            self.aver = self.n1/2\n",
    "        except AttributeError:\n",
    "            print(\"Enter the scores before calculating the average.\")\n",
    "    \n",
    "    def info(self):\n",
    "        if self.approval:\n",
    "            print(f'{self.name} got a passing grade.')\n",
    "        else:\n",
    "            print(f\"{self.name} didn't get a passing grade.\")"
   ]
  },
  {
   "cell_type": "code",
   "execution_count": 14,
   "id": "b2835f2c",
   "metadata": {},
   "outputs": [
    {
     "name": "stdout",
     "output_type": "stream",
     "text": [
      "Enter the first score: 8\n",
      "Enter the second score: 9\n",
      "Ana got a passing grade.\n"
     ]
    }
   ],
   "source": [
    "ana = Student(\"Ana\")\n",
    "ana.score()\n",
    "ana.average()\n",
    "ana.info()"
   ]
  },
  {
   "cell_type": "code",
   "execution_count": 15,
   "id": "db478fe9",
   "metadata": {},
   "outputs": [
    {
     "name": "stdout",
     "output_type": "stream",
     "text": [
      "Enter the first score: 8\n",
      "Enter the second score: 0\n",
      "John didn't get a passing grade.\n"
     ]
    }
   ],
   "source": [
    "john = Student(\"John\")\n",
    "john.score()\n",
    "john.average()\n",
    "john.info()"
   ]
  },
  {
   "cell_type": "code",
   "execution_count": 16,
   "id": "980c2a80",
   "metadata": {},
   "outputs": [
    {
     "name": "stdout",
     "output_type": "stream",
     "text": [
      "Enter the scores before calculating the average.\n"
     ]
    }
   ],
   "source": [
    "mark = Student(\"Mark\")\n",
    "mark.average()"
   ]
  }
 ],
 "metadata": {
  "kernelspec": {
   "display_name": "Python 3",
   "language": "python",
   "name": "python3"
  },
  "language_info": {
   "codemirror_mode": {
    "name": "ipython",
    "version": 3
   },
   "file_extension": ".py",
   "mimetype": "text/x-python",
   "name": "python",
   "nbconvert_exporter": "python",
   "pygments_lexer": "ipython3",
   "version": "3.8.8"
  }
 },
 "nbformat": 4,
 "nbformat_minor": 5
}
